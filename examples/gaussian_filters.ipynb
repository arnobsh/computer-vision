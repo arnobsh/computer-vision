{
 "cells": [
  {
   "cell_type": "code",
   "execution_count": null,
   "metadata": {},
   "outputs": [],
   "source": [
    "import cv2\n",
    "import numpy"
   ]
  },
  {
   "cell_type": "code",
   "execution_count": null,
   "metadata": {},
   "outputs": [],
   "source": [
    "# read image\n",
    "src = cv2.imread('../resources/python.png', cv2.IMREAD_UNCHANGED)"
   ]
  },
  {
   "cell_type": "code",
   "execution_count": null,
   "metadata": {},
   "outputs": [],
   "source": [
    "# apply guassian blur on src image\n",
    "dst = cv2.GaussianBlur(src,(5,5),cv2.BORDER_DEFAULT)"
   ]
  },
  {
   "cell_type": "code",
   "execution_count": null,
   "metadata": {},
   "outputs": [],
   "source": [
    "# display input and output image\n",
    "cv2.imshow(\"Gaussian Smoothing\",numpy.hstack((src, dst)))"
   ]
  },
  {
   "cell_type": "code",
   "execution_count": 4,
   "metadata": {},
   "outputs": [],
   "source": [
    "#Apply a Gaussian filter\n",
    "from scipy.ndimage import gaussian_filter"
   ]
  },
  {
   "cell_type": "code",
   "execution_count": 5,
   "metadata": {},
   "outputs": [],
   "source": [
    "# Define sigma for gausiaan filter\n",
    "sigma = 0.2"
   ]
  },
  {
   "cell_type": "code",
   "execution_count": 7,
   "metadata": {},
   "outputs": [
    {
     "name": "stdout",
     "output_type": "stream",
     "text": [
      "[[0 0 8 9]\n",
      " [0 0 0 6]\n",
      " [3 3 0 0]]\n"
     ]
    }
   ],
   "source": [
    "# print gausian filter\n",
    "print (gaussian_filter([[0, 0, 10, 10],\n",
    "                       [0, 0, 0, 8],\n",
    "                       [4, 5, 0, 0]], sigma))"
   ]
  },
  {
   "cell_type": "code",
   "execution_count": 8,
   "metadata": {},
   "outputs": [
    {
     "name": "stdout",
     "output_type": "stream",
     "text": [
      "[[0 0 8 8]\n",
      " [0 0 0 6]\n",
      " [2 3 0 0]]\n"
     ]
    }
   ],
   "source": [
    "print (gaussian_filter([[0, 0, 10, 10],\n",
    "                       [0, 0, 0, 8],\n",
    "                       [4, 5, 0, 0]], sigma, mode=\"constant\"))"
   ]
  },
  {
   "cell_type": "code",
   "execution_count": 9,
   "metadata": {},
   "outputs": [
    {
     "name": "stdout",
     "output_type": "stream",
     "text": [
      "[[0 0 8 8]\n",
      " [0 0 0 6]\n",
      " [2 3 0 0]]\n"
     ]
    }
   ],
   "source": [
    "print (gaussian_filter([[0, 0, 10, 10],\n",
    "                       [0, 0, 0, 8],\n",
    "                       [4, 5, 0, 0]], sigma, mode=\"wrap\"))"
   ]
  }
 ],
 "metadata": {
  "kernelspec": {
   "display_name": "Python 3",
   "language": "python",
   "name": "python3"
  },
  "language_info": {
   "codemirror_mode": {
    "name": "ipython",
    "version": 3
   },
   "file_extension": ".py",
   "mimetype": "text/x-python",
   "name": "python",
   "nbconvert_exporter": "python",
   "pygments_lexer": "ipython3",
   "version": "3.7.0"
  }
 },
 "nbformat": 4,
 "nbformat_minor": 2
}
