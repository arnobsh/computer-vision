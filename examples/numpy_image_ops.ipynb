{
 "cells": [
  {
   "cell_type": "code",
   "execution_count": 1,
   "metadata": {},
   "outputs": [],
   "source": [
    "# Here I will demontrate numpy image manipulation\n",
    "import matplotlib.image as mpimg\n",
    "import numpy as np"
   ]
  },
  {
   "cell_type": "code",
   "execution_count": 6,
   "metadata": {},
   "outputs": [],
   "source": [
    "# Read in the image\n",
    "image = mpimg.imread('../resources/test.jpg')"
   ]
  },
  {
   "cell_type": "code",
   "execution_count": 4,
   "metadata": {},
   "outputs": [
    {
     "name": "stdout",
     "output_type": "stream",
     "text": [
      "[138 201 236]\n"
     ]
    }
   ],
   "source": [
    "# You can access a pixel value by its row and column coordinates. For RGB image, \n",
    "# it returns an array of Blue, Green, Red values. For example for the Pixel of (x,y) = (100,100) the RGB value would be folllowing\n",
    "px = image[100,100]\n",
    "print(px)"
   ]
  },
  {
   "cell_type": "code",
   "execution_count": 9,
   "metadata": {},
   "outputs": [],
   "source": [
    "# Copy the image , so that we can modify it\n",
    "img = np.copy(image)"
   ]
  },
  {
   "cell_type": "code",
   "execution_count": 17,
   "metadata": {},
   "outputs": [
    {
     "name": "stdout",
     "output_type": "stream",
     "text": [
      "[155 255 100]\n"
     ]
    }
   ],
   "source": [
    "# You can modify the pixel values the same way. Modifying (100,100) pixel to all (255,255,255)\n",
    "img[100,100] = [155,255,100]\n",
    "print(img[100,100])"
   ]
  },
  {
   "cell_type": "code",
   "execution_count": 18,
   "metadata": {},
   "outputs": [
    {
     "name": "stdout",
     "output_type": "stream",
     "text": [
      "100\n",
      "255\n",
      "155\n"
     ]
    }
   ],
   "source": [
    "# accessing only blue,red and green pixel from the image. 2 for Red, 1 for Green, 0 for Blue\n",
    "red = img[100,100,2]\n",
    "print (red)\n",
    "green = img[100,100,1]\n",
    "print (green)\n",
    "blue = img[100,100,0]\n",
    "print (blue)"
   ]
  },
  {
   "cell_type": "code",
   "execution_count": 19,
   "metadata": {},
   "outputs": [
    {
     "data": {
      "text/plain": [
       "100"
      ]
     },
     "execution_count": 19,
     "metadata": {},
     "output_type": "execute_result"
    }
   ],
   "source": [
    "# modifying RED value\n",
    "img.itemset((10,10,2),100)\n",
    "img.item(10,10,2)"
   ]
  },
  {
   "cell_type": "code",
   "execution_count": 21,
   "metadata": {},
   "outputs": [
    {
     "name": "stdout",
     "output_type": "stream",
     "text": [
      "(540, 960, 3)\n"
     ]
    }
   ],
   "source": [
    "# Shape of image is accessed by img.shape. It returns a tuple of number of rows, columns and channels (if image is color)\n",
    "# If image is grayscale, tuple returned contains only number of rows and columns.\n",
    "print (img.shape)"
   ]
  },
  {
   "cell_type": "code",
   "execution_count": 22,
   "metadata": {},
   "outputs": [
    {
     "name": "stdout",
     "output_type": "stream",
     "text": [
      "1555200\n"
     ]
    }
   ],
   "source": [
    "# Total number of pixels is accessed by img.size\n",
    "print (img.size)"
   ]
  },
  {
   "cell_type": "code",
   "execution_count": 23,
   "metadata": {},
   "outputs": [
    {
     "name": "stdout",
     "output_type": "stream",
     "text": [
      "uint8\n"
     ]
    }
   ],
   "source": [
    "# Image datatype is obtained by img.dtype\n",
    "print (img.dtype)"
   ]
  },
  {
   "cell_type": "code",
   "execution_count": 27,
   "metadata": {},
   "outputs": [
    {
     "name": "stdout",
     "output_type": "stream",
     "text": [
      "[[122 122 123 ... 123 123 123]\n",
      " [122 122 122 ... 123 123 123]\n",
      " [122 122 122 ... 123 123 123]\n",
      " ...\n",
      " [154 156 153 ... 180 181 181]\n",
      " [162 160 152 ... 174 175 176]\n",
      " [156 148 137 ... 161 162 162]]\n",
      "[[185 185 186 ... 184 184 184]\n",
      " [185 185 185 ... 184 184 184]\n",
      " [185 185 185 ... 184 184 184]\n",
      " ...\n",
      " [166 168 165 ... 197 198 198]\n",
      " [174 172 164 ... 192 193 194]\n",
      " [168 160 149 ... 179 180 180]]\n",
      "[[229 229 230 ... 229 229 229]\n",
      " [229 229 229 ... 229 229 229]\n",
      " [229 229 229 ... 229 229 229]\n",
      " ...\n",
      " [154 156 153 ... 181 182 182]\n",
      " [164 162 154 ... 176 177 178]\n",
      " [158 150 139 ... 163 164 164]]\n"
     ]
    }
   ],
   "source": [
    "# Splitting and Merging Image Channels\n",
    "b = img[:,:,0]\n",
    "g = img[:,:,1]\n",
    "r = img[:,:,2]\n",
    "print (b)\n",
    "print (g)\n",
    "print (r)"
   ]
  },
  {
   "cell_type": "code",
   "execution_count": 28,
   "metadata": {},
   "outputs": [
    {
     "name": "stdout",
     "output_type": "stream",
     "text": [
      "[[[122 185   0]\n",
      "  [122 185   0]\n",
      "  [123 186   0]\n",
      "  ...\n",
      "  [123 184   0]\n",
      "  [123 184   0]\n",
      "  [123 184   0]]\n",
      "\n",
      " [[122 185   0]\n",
      "  [122 185   0]\n",
      "  [122 185   0]\n",
      "  ...\n",
      "  [123 184   0]\n",
      "  [123 184   0]\n",
      "  [123 184   0]]\n",
      "\n",
      " [[122 185   0]\n",
      "  [122 185   0]\n",
      "  [122 185   0]\n",
      "  ...\n",
      "  [123 184   0]\n",
      "  [123 184   0]\n",
      "  [123 184   0]]\n",
      "\n",
      " ...\n",
      "\n",
      " [[154 166   0]\n",
      "  [156 168   0]\n",
      "  [153 165   0]\n",
      "  ...\n",
      "  [180 197   0]\n",
      "  [181 198   0]\n",
      "  [181 198   0]]\n",
      "\n",
      " [[162 174   0]\n",
      "  [160 172   0]\n",
      "  [152 164   0]\n",
      "  ...\n",
      "  [174 192   0]\n",
      "  [175 193   0]\n",
      "  [176 194   0]]\n",
      "\n",
      " [[156 168   0]\n",
      "  [148 160   0]\n",
      "  [137 149   0]\n",
      "  ...\n",
      "  [161 179   0]\n",
      "  [162 180   0]\n",
      "  [162 180   0]]]\n"
     ]
    }
   ],
   "source": [
    "# Suppose, you want to make all the red pixels to zero, \n",
    "# you need not split like this and put it equal to zero. You can simply use Numpy indexing which is faster.\n",
    "img[:,:,2] = 0\n",
    "print (img)"
   ]
  },
  {
   "cell_type": "code",
   "execution_count": 31,
   "metadata": {},
   "outputs": [
    {
     "name": "stdout",
     "output_type": "stream",
     "text": [
      "[[ True  True  True ...  True  True  True]\n",
      " [ True  True  True ...  True  True  True]\n",
      " [ True  True  True ...  True  True  True]\n",
      " ...\n",
      " [ True  True  True ... False False False]\n",
      " [ True  True  True ... False False False]\n",
      " [ True  True  True ...  True  True  True]]\n"
     ]
    }
   ],
   "source": [
    "# comparing the image pixel\n",
    "compare_pixel = 170\n",
    "thresholds = img[:,:,0] < compare_pixel\n",
    "print (thresholds)"
   ]
  },
  {
   "cell_type": "code",
   "execution_count": 34,
   "metadata": {},
   "outputs": [
    {
     "name": "stdout",
     "output_type": "stream",
     "text": [
      "[[[  2   1   0]\n",
      "  [  2   1   0]\n",
      "  [  2   1   0]\n",
      "  ...\n",
      "  [  2   1   0]\n",
      "  [  2   1   0]\n",
      "  [  2   1   0]]\n",
      "\n",
      " [[  2   1   0]\n",
      "  [  2   1   0]\n",
      "  [  2   1   0]\n",
      "  ...\n",
      "  [  2   1   0]\n",
      "  [  2   1   0]\n",
      "  [  2   1   0]]\n",
      "\n",
      " [[  2   1   0]\n",
      "  [  2   1   0]\n",
      "  [  2   1   0]\n",
      "  ...\n",
      "  [  2   1   0]\n",
      "  [  2   1   0]\n",
      "  [  2   1   0]]\n",
      "\n",
      " ...\n",
      "\n",
      " [[  2   1   0]\n",
      "  [  2   1   0]\n",
      "  [  2   1   0]\n",
      "  ...\n",
      "  [180 197   0]\n",
      "  [181 198   0]\n",
      "  [181 198   0]]\n",
      "\n",
      " [[  2   1   0]\n",
      "  [  2   1   0]\n",
      "  [  2   1   0]\n",
      "  ...\n",
      "  [174 192   0]\n",
      "  [175 193   0]\n",
      "  [176 194   0]]\n",
      "\n",
      " [[  2   1   0]\n",
      "  [  2   1   0]\n",
      "  [  2   1   0]\n",
      "  ...\n",
      "  [  2   1   0]\n",
      "  [  2   1   0]\n",
      "  [  2   1   0]]]\n"
     ]
    }
   ],
   "source": [
    "# replce the original image with the threshold value . Those who are less than the compare_pixel will be stays as same\n",
    "img[thresholds] = [2,1,0]\n",
    "print(img)"
   ]
  },
  {
   "cell_type": "code",
   "execution_count": 51,
   "metadata": {},
   "outputs": [
    {
     "name": "stdout",
     "output_type": "stream",
     "text": [
      "[1, 2, 5]\n"
     ]
    }
   ],
   "source": [
    "# Basic python int tupple\n",
    "test = [1, 2, 5]\n",
    "print (test)   \n"
   ]
  },
  {
   "cell_type": "code",
   "execution_count": null,
   "metadata": {},
   "outputs": [],
   "source": []
  }
 ],
 "metadata": {
  "kernelspec": {
   "display_name": "Python 3",
   "language": "python",
   "name": "python3"
  },
  "language_info": {
   "codemirror_mode": {
    "name": "ipython",
    "version": 3
   },
   "file_extension": ".py",
   "mimetype": "text/x-python",
   "name": "python",
   "nbconvert_exporter": "python",
   "pygments_lexer": "ipython3",
   "version": "3.7.0"
  }
 },
 "nbformat": 4,
 "nbformat_minor": 2
}
